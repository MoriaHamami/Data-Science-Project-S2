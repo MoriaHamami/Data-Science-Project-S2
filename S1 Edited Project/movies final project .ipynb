{
 "cells": [
  {
   "cell_type": "markdown",
   "id": "da8ca4dc",
   "metadata": {},
   "source": [
    "# Final Project - Part 2 Regression"
   ]
  },
  {
   "cell_type": "markdown",
   "id": "682b8fd5",
   "metadata": {},
   "source": [
    "##  Research question: Audience rating prediction based on amount of votes."
   ]
  },
  {
   "cell_type": "markdown",
   "id": "15abe561",
   "metadata": {},
   "source": [
    "In this project our goal is to find the connection between the movies' amount of votes and the movies' audience rating. \n",
    "\n",
    "We used web-scraping in order to get data from IMBD.\n",
    "\n",
    "The websites' link is: https://www.imdb.com/search/title/?count=100&groups=top_1000&sort=user_rating. "
   ]
  },
  {
   "cell_type": "markdown",
   "id": "941f485b",
   "metadata": {},
   "source": [
    "# Table of Contents"
   ]
  },
  {
   "cell_type": "markdown",
   "id": "88183b81",
   "metadata": {},
   "source": [
    "### 1- Checking the Data\n",
    "### 2- Cleaning the Data\n",
    "### 3- Splitting the Data\n",
    "### 4- Visualization\n",
    "### 5- Searching for Correlation\n",
    "### 6- Comparing 3 Models\n",
    "### 7- Evaluating the Chosen Model\n",
    "### 8- Dummy Model\n",
    "### 9- Testing our model & analyzing"
   ]
  },
  {
   "cell_type": "markdown",
   "id": "5fa13a5f",
   "metadata": {},
   "source": [
    "## changes:"
   ]
  },
  {
   "cell_type": "markdown",
   "id": "0624ead3",
   "metadata": {},
   "source": [
    "###### in semster b we changed our project a bit.\n",
    "###### first, we went over our data, cleaned it better and displayed it.\n",
    "###### second, we added new models, and tested them. the new models are linear kernel, polynomial kernel and random forest regressor.\n",
    "we saw that our modelss from last semester were better therefore we didnt change anything else "
   ]
  },
  {
   "cell_type": "markdown",
   "id": "d82e6c70",
   "metadata": {},
   "source": [
    "# 1 - Checking the Data"
   ]
  },
  {
   "cell_type": "markdown",
   "id": "e66d7b35",
   "metadata": {},
   "source": [
    "### About our Data.."
   ]
  },
  {
   "cell_type": "markdown",
   "id": "1c4b51cf",
   "metadata": {},
   "source": [
    "- Title : the name of the movie.\n",
    "- Rating : rating of the movie\n",
    "- Votes : the amount of votes each movie got.\n",
    "- Years : the year that the movie was realesed.\n",
    "- Runtime : the time-lenght of the movie. "
   ]
  },
  {
   "cell_type": "markdown",
   "id": "3c156ef7",
   "metadata": {},
   "source": [
    "importing the needed libraries:"
   ]
  },
  {
   "cell_type": "code",
   "execution_count": 88,
   "id": "5ee9056a",
   "metadata": {},
   "outputs": [],
   "source": [
    "import pandas as pd\n",
    "import numpy as np\n",
    "import seaborn as sns\n",
    "import matplotlib.pyplot as plt\n",
    "import matplotlib as mp\n",
    "%matplotlib inline\n",
    "import scipy.stats as stats\n",
    "import urllib\n",
    "import requests\n",
    "\n",
    "#Importing libraries for cleaning data\n",
    "from sklearn.preprocessing import OneHotEncoder\n",
    "\n",
    "#Importing r2 as a metric measure\n",
    "from sklearn.metrics import r2_score\n",
    "\n",
    "#Importing scatter_matrix for visualization and correlation\n",
    "from pandas.plotting import scatter_matrix\n",
    "\n",
    "#Importing libraries for model use\n",
    "from sklearn.model_selection import train_test_split, KFold, cross_val_score\n",
    "\n",
    "#Importing models\n",
    "from sklearn.neighbors import KNeighborsRegressor\n",
    "from sklearn.tree import DecisionTreeRegressor\n",
    "from sklearn import linear_model\n",
    "from sklearn.dummy import DummyRegressor\n",
    "\n",
    "#Ignore warnings\n",
    "import warnings\n",
    "warnings.filterwarnings('ignore')\n",
    "\n",
    "from sklearn.model_selection import RandomizedSearchCV"
   ]
  },
  {
   "cell_type": "markdown",
   "id": "9db03ae3",
   "metadata": {},
   "source": [
    "grabbing our data from the csv file "
   ]
  },
  {
   "cell_type": "code",
   "execution_count": 5,
   "id": "83aca9d9",
   "metadata": {},
   "outputs": [],
   "source": [
    "df=pd.read_csv('FINAL-DATA .csv')"
   ]
  },
  {
   "cell_type": "markdown",
   "id": "3ea4ce63",
   "metadata": {},
   "source": [
    "Let's take a quick look at our data:"
   ]
  },
  {
   "cell_type": "code",
   "execution_count": 38,
   "id": "380db3ad",
   "metadata": {},
   "outputs": [
    {
     "data": {
      "text/html": [
       "<div>\n",
       "<style scoped>\n",
       "    .dataframe tbody tr th:only-of-type {\n",
       "        vertical-align: middle;\n",
       "    }\n",
       "\n",
       "    .dataframe tbody tr th {\n",
       "        vertical-align: top;\n",
       "    }\n",
       "\n",
       "    .dataframe thead th {\n",
       "        text-align: right;\n",
       "    }\n",
       "</style>\n",
       "<table border=\"1\" class=\"dataframe\">\n",
       "  <thead>\n",
       "    <tr style=\"text-align: right;\">\n",
       "      <th></th>\n",
       "      <th>Title</th>\n",
       "      <th>Rating</th>\n",
       "      <th>Votes</th>\n",
       "      <th>Genre</th>\n",
       "      <th>Years</th>\n",
       "      <th>Runtime</th>\n",
       "    </tr>\n",
       "  </thead>\n",
       "  <tbody>\n",
       "    <tr>\n",
       "      <th>0</th>\n",
       "      <td>Jai Bhim</td>\n",
       "      <td>9.3</td>\n",
       "      <td>175,343</td>\n",
       "      <td>Crime, Drama, Mystery</td>\n",
       "      <td>(2021)</td>\n",
       "      <td>164 min</td>\n",
       "    </tr>\n",
       "    <tr>\n",
       "      <th>1</th>\n",
       "      <td>The Shawshank Redemption</td>\n",
       "      <td>9.3</td>\n",
       "      <td>2,549,198</td>\n",
       "      <td>Drama</td>\n",
       "      <td>(1994)</td>\n",
       "      <td>142 min</td>\n",
       "    </tr>\n",
       "    <tr>\n",
       "      <th>2</th>\n",
       "      <td>The Godfather</td>\n",
       "      <td>9.2</td>\n",
       "      <td>1,753,345</td>\n",
       "      <td>Crime, Drama</td>\n",
       "      <td>(1972)</td>\n",
       "      <td>175 min</td>\n",
       "    </tr>\n",
       "    <tr>\n",
       "      <th>3</th>\n",
       "      <td>Soorarai Pottru</td>\n",
       "      <td>9.1</td>\n",
       "      <td>107,606</td>\n",
       "      <td>Drama</td>\n",
       "      <td>(2020)</td>\n",
       "      <td>153 min</td>\n",
       "    </tr>\n",
       "    <tr>\n",
       "      <th>4</th>\n",
       "      <td>The Dark Knight</td>\n",
       "      <td>9.0</td>\n",
       "      <td>2,499,654</td>\n",
       "      <td>Action, Crime, Drama</td>\n",
       "      <td>(2008)</td>\n",
       "      <td>152 min</td>\n",
       "    </tr>\n",
       "    <tr>\n",
       "      <th>5</th>\n",
       "      <td>The Godfather: Part II</td>\n",
       "      <td>9.0</td>\n",
       "      <td>1,215,898</td>\n",
       "      <td>Crime, Drama</td>\n",
       "      <td>(1974)</td>\n",
       "      <td>202 min</td>\n",
       "    </tr>\n",
       "    <tr>\n",
       "      <th>6</th>\n",
       "      <td>12 Angry Men</td>\n",
       "      <td>9.0</td>\n",
       "      <td>753,325</td>\n",
       "      <td>Crime, Drama</td>\n",
       "      <td>(1957)</td>\n",
       "      <td>96 min</td>\n",
       "    </tr>\n",
       "    <tr>\n",
       "      <th>7</th>\n",
       "      <td>The Lord of the Rings: The Return of the King</td>\n",
       "      <td>8.9</td>\n",
       "      <td>1,757,046</td>\n",
       "      <td>Action, Adventure, Drama</td>\n",
       "      <td>(2003)</td>\n",
       "      <td>201 min</td>\n",
       "    </tr>\n",
       "    <tr>\n",
       "      <th>8</th>\n",
       "      <td>Pulp Fiction</td>\n",
       "      <td>8.9</td>\n",
       "      <td>1,960,320</td>\n",
       "      <td>Crime, Drama</td>\n",
       "      <td>(1994)</td>\n",
       "      <td>154 min</td>\n",
       "    </tr>\n",
       "    <tr>\n",
       "      <th>9</th>\n",
       "      <td>Schindler's List</td>\n",
       "      <td>8.9</td>\n",
       "      <td>1,301,020</td>\n",
       "      <td>Biography, Drama, History</td>\n",
       "      <td>(1993)</td>\n",
       "      <td>195 min</td>\n",
       "    </tr>\n",
       "  </tbody>\n",
       "</table>\n",
       "</div>"
      ],
      "text/plain": [
       "                                           Title  Rating      Votes  \\\n",
       "0                                       Jai Bhim     9.3    175,343   \n",
       "1                       The Shawshank Redemption     9.3  2,549,198   \n",
       "2                                  The Godfather     9.2  1,753,345   \n",
       "3                                Soorarai Pottru     9.1    107,606   \n",
       "4                                The Dark Knight     9.0  2,499,654   \n",
       "5                         The Godfather: Part II     9.0  1,215,898   \n",
       "6                                   12 Angry Men     9.0    753,325   \n",
       "7  The Lord of the Rings: The Return of the King     8.9  1,757,046   \n",
       "8                                   Pulp Fiction     8.9  1,960,320   \n",
       "9                               Schindler's List     8.9  1,301,020   \n",
       "\n",
       "                                   Genre   Years  Runtime  \n",
       "0      Crime, Drama, Mystery              (2021)  164 min  \n",
       "1                      Drama              (1994)  142 min  \n",
       "2               Crime, Drama              (1972)  175 min  \n",
       "3                      Drama              (2020)  153 min  \n",
       "4       Action, Crime, Drama              (2008)  152 min  \n",
       "5               Crime, Drama              (1974)  202 min  \n",
       "6               Crime, Drama              (1957)   96 min  \n",
       "7   Action, Adventure, Drama              (2003)  201 min  \n",
       "8               Crime, Drama              (1994)  154 min  \n",
       "9  Biography, Drama, History              (1993)  195 min  "
      ]
     },
     "execution_count": 38,
     "metadata": {},
     "output_type": "execute_result"
    }
   ],
   "source": [
    "df.head(10)"
   ]
  },
  {
   "cell_type": "markdown",
   "id": "2e31ef04",
   "metadata": {},
   "source": [
    "understanding the data better:"
   ]
  },
  {
   "cell_type": "code",
   "execution_count": 7,
   "id": "bed9541a",
   "metadata": {},
   "outputs": [
    {
     "name": "stdout",
     "output_type": "stream",
     "text": [
      "(400, 6)\n"
     ]
    }
   ],
   "source": [
    "print(df.shape)"
   ]
  },
  {
   "cell_type": "code",
   "execution_count": 10,
   "id": "625e8518",
   "metadata": {},
   "outputs": [
    {
     "data": {
      "text/plain": [
       "<bound method DataFrame.info of                         Title  Rating      Votes  \\\n",
       "0                    Jai Bhim     9.3    175,343   \n",
       "1    The Shawshank Redemption     9.3  2,549,198   \n",
       "2               The Godfather     9.2  1,753,345   \n",
       "3             Soorarai Pottru     9.1    107,606   \n",
       "4             The Dark Knight     9.0  2,499,654   \n",
       "..                        ...     ...        ...   \n",
       "395                   Sabrina     7.6     63,462   \n",
       "396     From Here to Eternity     7.6     46,088   \n",
       "397                     Gilda     7.6     31,598   \n",
       "398                  Lifeboat     7.6     28,457   \n",
       "399              The 39 Steps     7.6     55,794   \n",
       "\n",
       "                                     Genre   Years  Runtime  \n",
       "0        Crime, Drama, Mystery              (2021)  164 min  \n",
       "1                        Drama              (1994)  142 min  \n",
       "2                 Crime, Drama              (1972)  175 min  \n",
       "3                        Drama              (2020)  153 min  \n",
       "4         Action, Crime, Drama              (2008)  152 min  \n",
       "..                                     ...     ...      ...  \n",
       "395     Comedy, Drama, Romance              (1954)  113 min  \n",
       "396        Drama, Romance, War              (1953)  118 min  \n",
       "397  Drama, Film-Noir, Romance              (1946)  110 min  \n",
       "398                 Drama, War              (1944)   97 min  \n",
       "399   Crime, Mystery, Thriller              (1935)   86 min  \n",
       "\n",
       "[400 rows x 6 columns]>"
      ]
     },
     "execution_count": 10,
     "metadata": {},
     "output_type": "execute_result"
    }
   ],
   "source": [
    "df.info"
   ]
  },
  {
   "cell_type": "markdown",
   "id": "b887fac1",
   "metadata": {},
   "source": [
    "Checking for null values in our data:"
   ]
  },
  {
   "cell_type": "code",
   "execution_count": 8,
   "id": "c993f9a8",
   "metadata": {},
   "outputs": [
    {
     "data": {
      "text/plain": [
       "False"
      ]
     },
     "execution_count": 8,
     "metadata": {},
     "output_type": "execute_result"
    }
   ],
   "source": [
    "df.isnull().values.any()"
   ]
  },
  {
   "cell_type": "markdown",
   "id": "525e7429",
   "metadata": {},
   "source": [
    "## 2- Cleaning the Data"
   ]
  },
  {
   "cell_type": "markdown",
   "id": "46722852",
   "metadata": {},
   "source": [
    "while doing web-scraping, we chose each specific column. \n",
    "\n",
    "\n"
   ]
  },
  {
   "cell_type": "markdown",
   "id": "35966951",
   "metadata": {},
   "source": [
    "### cleaning the genres"
   ]
  },
  {
   "cell_type": "markdown",
   "id": "a99d6074",
   "metadata": {},
   "source": [
    "When we try to check how many ratings we have per genre, we will notice that there're movies that have a coulple of genres. Therefore, we can't count the amount of genres individually.  "
   ]
  },
  {
   "cell_type": "code",
   "execution_count": 41,
   "id": "a4a7d1ed",
   "metadata": {},
   "outputs": [
    {
     "data": {
      "text/plain": [
       "Drama                                    32\n",
       "Action, Crime, Drama                     17\n",
       "Drama, Romance                           15\n",
       "Crime, Drama, Mystery                    14\n",
       "Comedy, Drama, Romance                   13\n",
       "                                         ..\n",
       "Fantasy, Horror                           1\n",
       "Drama, Mystery, Sci-Fi                    1\n",
       "Action, Adventure, Family                 1\n",
       "Drama, Fantasy, Music                     1\n",
       "Action, Adventure, War                    1\n",
       "Name: Genre, Length: 128, dtype: int64"
      ]
     },
     "execution_count": 41,
     "metadata": {},
     "output_type": "execute_result"
    }
   ],
   "source": [
    "df.Genre.value_counts()"
   ]
  },
  {
   "cell_type": "markdown",
   "id": "317256d4",
   "metadata": {},
   "source": [
    "In order to deal with this problem, we wrote a code that goes-over each genre in our DataFrame and counts the amount of times it appears, and simultaneously we cleaned that data."
   ]
  },
  {
   "cell_type": "code",
   "execution_count": 14,
   "id": "e93be1b0",
   "metadata": {},
   "outputs": [
    {
     "name": "stdout",
     "output_type": "stream",
     "text": [
      "Crime: 83\n",
      "Drama: 304\n",
      "Mystery: 44\n",
      "Action: 100\n",
      "Adventure: 77\n",
      "Biography: 50\n",
      "History: 23\n",
      "Sci-Fi: 23\n",
      "Romance: 49\n",
      "Western: 8\n",
      "Fantasy: 22\n",
      "War: 30\n",
      "Comedy: 66\n",
      "Thriller: 58\n",
      "Animation: 31\n",
      "Family: 20\n",
      "Music: 9\n",
      "Horror: 19\n",
      "Film-Noir: 5\n",
      "Sport: 7\n",
      "Musical: 2\n"
     ]
    }
   ],
   "source": [
    "generes_count = {}\n",
    "raw_generes = df.get('Genre')\n",
    "\n",
    "for generes_row_str in raw_generes:\n",
    "    \n",
    "    generes = generes_row_str.strip().split(', ')\n",
    "    \n",
    "    for genere in generes: \n",
    "        \n",
    "        if generes_count.get(genere, None):\n",
    "            generes_count[genere] += 1\n",
    "        else:\n",
    "            generes_count[genere] = 1\n",
    "\n",
    "for genere, amount in generes_count.items():\n",
    "    print(f'{genere}: {amount}')\n"
   ]
  },
  {
   "cell_type": "markdown",
   "id": "a861eef5",
   "metadata": {},
   "source": [
    "###### Making the genres numeric"
   ]
  },
  {
   "cell_type": "code",
   "execution_count": 15,
   "id": "9595e494",
   "metadata": {},
   "outputs": [
    {
     "data": {
      "text/plain": [
       "OneHotEncoder(handle_unknown='ignore')"
      ]
     },
     "execution_count": 15,
     "metadata": {},
     "output_type": "execute_result"
    }
   ],
   "source": [
    "generes = generes_count.keys()\n",
    "generes_mapping = []\n",
    "for index, genere in enumerate(generes):\n",
    "    generes_mapping.append([genere, index])\n",
    "    \n",
    "enc = OneHotEncoder(handle_unknown='ignore')\n",
    "enc.fit(generes_mapping)"
   ]
  },
  {
   "cell_type": "code",
   "execution_count": 16,
   "id": "edebe3a8",
   "metadata": {},
   "outputs": [
    {
     "name": "stdout",
     "output_type": "stream",
     "text": [
      "dict_keys(['Crime', 'Drama', 'Mystery', 'Action', 'Adventure', 'Biography', 'History', 'Sci-Fi', 'Romance', 'Western', 'Fantasy', 'War', 'Comedy', 'Thriller', 'Animation', 'Family', 'Music', 'Horror', 'Film-Noir', 'Sport', 'Musical'])\n"
     ]
    },
    {
     "data": {
      "text/html": [
       "<div>\n",
       "<style scoped>\n",
       "    .dataframe tbody tr th:only-of-type {\n",
       "        vertical-align: middle;\n",
       "    }\n",
       "\n",
       "    .dataframe tbody tr th {\n",
       "        vertical-align: top;\n",
       "    }\n",
       "\n",
       "    .dataframe thead th {\n",
       "        text-align: right;\n",
       "    }\n",
       "</style>\n",
       "<table border=\"1\" class=\"dataframe\">\n",
       "  <thead>\n",
       "    <tr style=\"text-align: right;\">\n",
       "      <th></th>\n",
       "      <th>Title</th>\n",
       "      <th>Rating</th>\n",
       "      <th>Votes</th>\n",
       "      <th>Genre</th>\n",
       "      <th>Years</th>\n",
       "      <th>Runtime</th>\n",
       "    </tr>\n",
       "  </thead>\n",
       "  <tbody>\n",
       "    <tr>\n",
       "      <th>0</th>\n",
       "      <td>Jai Bhim</td>\n",
       "      <td>9.3</td>\n",
       "      <td>175,343</td>\n",
       "      <td>0</td>\n",
       "      <td>(2021)</td>\n",
       "      <td>164 min</td>\n",
       "    </tr>\n",
       "    <tr>\n",
       "      <th>0</th>\n",
       "      <td>Jai Bhim</td>\n",
       "      <td>9.3</td>\n",
       "      <td>175,343</td>\n",
       "      <td>1</td>\n",
       "      <td>(2021)</td>\n",
       "      <td>164 min</td>\n",
       "    </tr>\n",
       "    <tr>\n",
       "      <th>0</th>\n",
       "      <td>Jai Bhim</td>\n",
       "      <td>9.3</td>\n",
       "      <td>175,343</td>\n",
       "      <td>2</td>\n",
       "      <td>(2021)</td>\n",
       "      <td>164 min</td>\n",
       "    </tr>\n",
       "    <tr>\n",
       "      <th>1</th>\n",
       "      <td>The Shawshank Redemption</td>\n",
       "      <td>9.3</td>\n",
       "      <td>2,549,198</td>\n",
       "      <td>1</td>\n",
       "      <td>(1994)</td>\n",
       "      <td>142 min</td>\n",
       "    </tr>\n",
       "    <tr>\n",
       "      <th>2</th>\n",
       "      <td>The Godfather</td>\n",
       "      <td>9.2</td>\n",
       "      <td>1,753,345</td>\n",
       "      <td>0</td>\n",
       "      <td>(1972)</td>\n",
       "      <td>175 min</td>\n",
       "    </tr>\n",
       "    <tr>\n",
       "      <th>...</th>\n",
       "      <td>...</td>\n",
       "      <td>...</td>\n",
       "      <td>...</td>\n",
       "      <td>...</td>\n",
       "      <td>...</td>\n",
       "      <td>...</td>\n",
       "    </tr>\n",
       "    <tr>\n",
       "      <th>398</th>\n",
       "      <td>Lifeboat</td>\n",
       "      <td>7.6</td>\n",
       "      <td>28,457</td>\n",
       "      <td>1</td>\n",
       "      <td>(1944)</td>\n",
       "      <td>97 min</td>\n",
       "    </tr>\n",
       "    <tr>\n",
       "      <th>398</th>\n",
       "      <td>Lifeboat</td>\n",
       "      <td>7.6</td>\n",
       "      <td>28,457</td>\n",
       "      <td>11</td>\n",
       "      <td>(1944)</td>\n",
       "      <td>97 min</td>\n",
       "    </tr>\n",
       "    <tr>\n",
       "      <th>399</th>\n",
       "      <td>The 39 Steps</td>\n",
       "      <td>7.6</td>\n",
       "      <td>55,794</td>\n",
       "      <td>0</td>\n",
       "      <td>(1935)</td>\n",
       "      <td>86 min</td>\n",
       "    </tr>\n",
       "    <tr>\n",
       "      <th>399</th>\n",
       "      <td>The 39 Steps</td>\n",
       "      <td>7.6</td>\n",
       "      <td>55,794</td>\n",
       "      <td>2</td>\n",
       "      <td>(1935)</td>\n",
       "      <td>86 min</td>\n",
       "    </tr>\n",
       "    <tr>\n",
       "      <th>399</th>\n",
       "      <td>The 39 Steps</td>\n",
       "      <td>7.6</td>\n",
       "      <td>55,794</td>\n",
       "      <td>13</td>\n",
       "      <td>(1935)</td>\n",
       "      <td>86 min</td>\n",
       "    </tr>\n",
       "  </tbody>\n",
       "</table>\n",
       "<p>1030 rows × 6 columns</p>\n",
       "</div>"
      ],
      "text/plain": [
       "                        Title  Rating      Votes Genre   Years  Runtime\n",
       "0                    Jai Bhim     9.3    175,343     0  (2021)  164 min\n",
       "0                    Jai Bhim     9.3    175,343     1  (2021)  164 min\n",
       "0                    Jai Bhim     9.3    175,343     2  (2021)  164 min\n",
       "1    The Shawshank Redemption     9.3  2,549,198     1  (1994)  142 min\n",
       "2               The Godfather     9.2  1,753,345     0  (1972)  175 min\n",
       "..                        ...     ...        ...   ...     ...      ...\n",
       "398                  Lifeboat     7.6     28,457     1  (1944)   97 min\n",
       "398                  Lifeboat     7.6     28,457    11  (1944)   97 min\n",
       "399              The 39 Steps     7.6     55,794     0  (1935)   86 min\n",
       "399              The 39 Steps     7.6     55,794     2  (1935)   86 min\n",
       "399              The 39 Steps     7.6     55,794    13  (1935)   86 min\n",
       "\n",
       "[1030 rows x 6 columns]"
      ]
     },
     "execution_count": 16,
     "metadata": {},
     "output_type": "execute_result"
    }
   ],
   "source": [
    "genres_map_new = {}\n",
    "print(generes)\n",
    "for index, genre in enumerate(generes):\n",
    "    genres_map_new[genre]= index   \n",
    "\n",
    "raw_genres = df['Genre']\n",
    "converted_genres = []\n",
    "\n",
    "for genre_row in raw_genres:\n",
    "    current_genres = genre_row.strip().split(', ')\n",
    "    converted_row_genres = []\n",
    "    for genre in current_genres:\n",
    "        mapped_genre = (genres_map_new[genre])\n",
    "        converted_row_genres.append(mapped_genre)\n",
    "    converted_genres.append(converted_row_genres)\n",
    "    \n",
    "converted_df = df.assign(Genre=converted_genres).explode('Genre')\n",
    "converted_df"
   ]
  },
  {
   "cell_type": "code",
   "execution_count": 76,
   "id": "b262a351",
   "metadata": {},
   "outputs": [
    {
     "name": "stdout",
     "output_type": "stream",
     "text": [
      "{'Crime': 0, 'Drama': 1, 'Mystery': 2, 'Action': 3, 'Adventure': 4, 'Biography': 5, 'History': 6, 'Sci-Fi': 7, 'Romance': 8, 'Western': 9, 'Fantasy': 10, 'War': 11, 'Comedy': 12, 'Thriller': 13, 'Animation': 14, 'Family': 15, 'Music': 16, 'Horror': 17, 'Film-Noir': 18, 'Sport': 19, 'Musical': 20}\n"
     ]
    }
   ],
   "source": [
    "for index, genere in enumerate(generes):\n",
    "    generes_map_new[genere]= index   \n",
    "print(generes_map_new)"
   ]
  },
  {
   "cell_type": "markdown",
   "id": "2516f19a",
   "metadata": {},
   "source": [
    "### cleaning the years"
   ]
  },
  {
   "cell_type": "markdown",
   "id": "4b62ac7d",
   "metadata": {},
   "source": [
    "we wanted to get rid of the brackets, and make the numbers, numbers."
   ]
  },
  {
   "cell_type": "code",
   "execution_count": 44,
   "id": "6956d2e0",
   "metadata": {},
   "outputs": [],
   "source": [
    "raw_years = converted_df.get('Years')\n",
    "years = []\n",
    "\n",
    "for raw_year in raw_years:\n",
    "    \n",
    "    if isinstance (raw_year , str):\n",
    "        raw_year = raw_year.split(' ')[-1]\n",
    "        year = int(raw_year.strip('()'))\n",
    "        \n",
    "    elif isinstance (raw_year, int):\n",
    "        year= raw_year\n",
    "        \n",
    "    else:\n",
    "        continue\n",
    "    \n",
    "    year = raw_year.strip('()')\n",
    "    years.append(year)\n",
    "    \n",
    "converted_df['Years'] = years\n"
   ]
  },
  {
   "cell_type": "code",
   "execution_count": 45,
   "id": "38ba7156",
   "metadata": {},
   "outputs": [
    {
     "data": {
      "text/plain": [
       "0      2021\n",
       "1      1994\n",
       "2      1972\n",
       "3      2020\n",
       "4      2008\n",
       "       ... \n",
       "395    1954\n",
       "396    1953\n",
       "397    1946\n",
       "398    1944\n",
       "399    1935\n",
       "Name: Years, Length: 400, dtype: object"
      ]
     },
     "execution_count": 45,
     "metadata": {},
     "output_type": "execute_result"
    }
   ],
   "source": [
    "df.Years"
   ]
  },
  {
   "cell_type": "markdown",
   "id": "344211ff",
   "metadata": {},
   "source": [
    "### cleaning the run-time"
   ]
  },
  {
   "cell_type": "markdown",
   "id": "42b45aa5",
   "metadata": {},
   "source": [
    "we wanted to make the runtime as int, and clean the data-erasing unwanted empty spaces and 0."
   ]
  },
  {
   "cell_type": "code",
   "execution_count": 46,
   "id": "9da311ee",
   "metadata": {},
   "outputs": [],
   "source": [
    "raw_runtimes = converted_df.get('Runtime')\n",
    "runtimes = []\n",
    "\n",
    "for raw_runtime in raw_runtimes:\n",
    "    \n",
    "    if isinstance(raw_runtime, str):\n",
    "        runtime = int(raw_runtime.split(' ')[0])\n",
    "    \n",
    "    elif isinstance(raw_runtime, int):\n",
    "        runtime = raw_runtime\n",
    "    \n",
    "    else:\n",
    "        continue\n",
    "    \n",
    "    runtimes.append(runtime)\n",
    "    \n",
    "    \n",
    "converted_df['Runtime'] = runtimes\n"
   ]
  },
  {
   "cell_type": "code",
   "execution_count": 47,
   "id": "7da01deb",
   "metadata": {},
   "outputs": [
    {
     "data": {
      "text/plain": [
       "0      164\n",
       "1      142\n",
       "2      175\n",
       "3      153\n",
       "4      152\n",
       "      ... \n",
       "395    113\n",
       "396    118\n",
       "397    110\n",
       "398     97\n",
       "399     86\n",
       "Name: Runtime, Length: 400, dtype: int64"
      ]
     },
     "execution_count": 47,
     "metadata": {},
     "output_type": "execute_result"
    }
   ],
   "source": [
    "df.Runtime"
   ]
  },
  {
   "cell_type": "markdown",
   "id": "86aedaaf",
   "metadata": {},
   "source": [
    "### cleaning the votes"
   ]
  },
  {
   "cell_type": "markdown",
   "id": "5c438bcb",
   "metadata": {},
   "source": [
    "we wanted to make the votes as int, and clean the data -erasing unwanted empty spaces and commas."
   ]
  },
  {
   "cell_type": "code",
   "execution_count": 48,
   "id": "d83690b8",
   "metadata": {},
   "outputs": [],
   "source": [
    "raw_votes = converted_df.get('Votes')\n",
    "votes = []\n",
    "\n",
    "for raw_vote in raw_votes:\n",
    "    \n",
    "    if isinstance(raw_vote, str):\n",
    "        vote = int(raw_vote.replace(',', ''))\n",
    "    \n",
    "    elif isinstance(raw_vote , int):\n",
    "        vote = raw_vote\n",
    "\n",
    "    else:\n",
    "        continue \n",
    "\n",
    "    votes.append(vote)\n",
    "    \n",
    "converted_df['Votes'] = votes\n"
   ]
  },
  {
   "cell_type": "code",
   "execution_count": 49,
   "id": "cb106473",
   "metadata": {},
   "outputs": [
    {
     "data": {
      "text/plain": [
       "0       175343\n",
       "1      2549198\n",
       "2      1753345\n",
       "3       107606\n",
       "4      2499654\n",
       "        ...   \n",
       "395      63462\n",
       "396      46088\n",
       "397      31598\n",
       "398      28457\n",
       "399      55794\n",
       "Name: Votes, Length: 400, dtype: int64"
      ]
     },
     "execution_count": 49,
     "metadata": {},
     "output_type": "execute_result"
    }
   ],
   "source": [
    "df.Votes"
   ]
  },
  {
   "cell_type": "markdown",
   "id": "789a6987",
   "metadata": {},
   "source": [
    "### cleaning the ratings"
   ]
  },
  {
   "cell_type": "markdown",
   "id": "22635f42",
   "metadata": {},
   "source": [
    "we wanted to make the ratings as float."
   ]
  },
  {
   "cell_type": "code",
   "execution_count": 50,
   "id": "c5cd690d",
   "metadata": {},
   "outputs": [],
   "source": [
    "raw_ratings = converted_df.get('Rating')\n",
    "ratings = []\n",
    "\n",
    "for raw_rating in raw_ratings:\n",
    "\n",
    "    if isinstance(raw_rating, str):\n",
    "        rating = float(raw_rating)\n",
    "    \n",
    "    elif isinstance(raw_rating, float):\n",
    "        rating = raw_rating\n",
    "    \n",
    "    else:\n",
    "        continue\n",
    "\n",
    "        \n",
    "    ratings.append(rating)\n",
    "\n",
    "converted_df['Rating'] = ratings\n"
   ]
  },
  {
   "cell_type": "code",
   "execution_count": 51,
   "id": "dd80b2d9",
   "metadata": {},
   "outputs": [
    {
     "data": {
      "text/plain": [
       "0      9.3\n",
       "1      9.3\n",
       "2      9.2\n",
       "3      9.1\n",
       "4      9.0\n",
       "      ... \n",
       "395    7.6\n",
       "396    7.6\n",
       "397    7.6\n",
       "398    7.6\n",
       "399    7.6\n",
       "Name: Rating, Length: 400, dtype: float64"
      ]
     },
     "execution_count": 51,
     "metadata": {},
     "output_type": "execute_result"
    }
   ],
   "source": [
    "df.Rating"
   ]
  },
  {
   "cell_type": "markdown",
   "id": "36decdfb",
   "metadata": {},
   "source": [
    "Seeing the our new DataFrame all clean  "
   ]
  },
  {
   "cell_type": "code",
   "execution_count": 52,
   "id": "95921908",
   "metadata": {},
   "outputs": [
    {
     "data": {
      "text/html": [
       "<div>\n",
       "<style scoped>\n",
       "    .dataframe tbody tr th:only-of-type {\n",
       "        vertical-align: middle;\n",
       "    }\n",
       "\n",
       "    .dataframe tbody tr th {\n",
       "        vertical-align: top;\n",
       "    }\n",
       "\n",
       "    .dataframe thead th {\n",
       "        text-align: right;\n",
       "    }\n",
       "</style>\n",
       "<table border=\"1\" class=\"dataframe\">\n",
       "  <thead>\n",
       "    <tr style=\"text-align: right;\">\n",
       "      <th></th>\n",
       "      <th>Title</th>\n",
       "      <th>Rating</th>\n",
       "      <th>Votes</th>\n",
       "      <th>Genre</th>\n",
       "      <th>Years</th>\n",
       "      <th>Runtime</th>\n",
       "    </tr>\n",
       "  </thead>\n",
       "  <tbody>\n",
       "    <tr>\n",
       "      <th>0</th>\n",
       "      <td>Jai Bhim</td>\n",
       "      <td>9.3</td>\n",
       "      <td>175343</td>\n",
       "      <td>0</td>\n",
       "      <td>2021</td>\n",
       "      <td>164</td>\n",
       "    </tr>\n",
       "    <tr>\n",
       "      <th>0</th>\n",
       "      <td>Jai Bhim</td>\n",
       "      <td>9.3</td>\n",
       "      <td>175343</td>\n",
       "      <td>1</td>\n",
       "      <td>2021</td>\n",
       "      <td>164</td>\n",
       "    </tr>\n",
       "    <tr>\n",
       "      <th>0</th>\n",
       "      <td>Jai Bhim</td>\n",
       "      <td>9.3</td>\n",
       "      <td>175343</td>\n",
       "      <td>2</td>\n",
       "      <td>2021</td>\n",
       "      <td>164</td>\n",
       "    </tr>\n",
       "    <tr>\n",
       "      <th>1</th>\n",
       "      <td>The Shawshank Redemption</td>\n",
       "      <td>9.3</td>\n",
       "      <td>2549198</td>\n",
       "      <td>1</td>\n",
       "      <td>1994</td>\n",
       "      <td>142</td>\n",
       "    </tr>\n",
       "    <tr>\n",
       "      <th>2</th>\n",
       "      <td>The Godfather</td>\n",
       "      <td>9.2</td>\n",
       "      <td>1753345</td>\n",
       "      <td>0</td>\n",
       "      <td>1972</td>\n",
       "      <td>175</td>\n",
       "    </tr>\n",
       "    <tr>\n",
       "      <th>...</th>\n",
       "      <td>...</td>\n",
       "      <td>...</td>\n",
       "      <td>...</td>\n",
       "      <td>...</td>\n",
       "      <td>...</td>\n",
       "      <td>...</td>\n",
       "    </tr>\n",
       "    <tr>\n",
       "      <th>398</th>\n",
       "      <td>Lifeboat</td>\n",
       "      <td>7.6</td>\n",
       "      <td>28457</td>\n",
       "      <td>1</td>\n",
       "      <td>1944</td>\n",
       "      <td>97</td>\n",
       "    </tr>\n",
       "    <tr>\n",
       "      <th>398</th>\n",
       "      <td>Lifeboat</td>\n",
       "      <td>7.6</td>\n",
       "      <td>28457</td>\n",
       "      <td>11</td>\n",
       "      <td>1944</td>\n",
       "      <td>97</td>\n",
       "    </tr>\n",
       "    <tr>\n",
       "      <th>399</th>\n",
       "      <td>The 39 Steps</td>\n",
       "      <td>7.6</td>\n",
       "      <td>55794</td>\n",
       "      <td>0</td>\n",
       "      <td>1935</td>\n",
       "      <td>86</td>\n",
       "    </tr>\n",
       "    <tr>\n",
       "      <th>399</th>\n",
       "      <td>The 39 Steps</td>\n",
       "      <td>7.6</td>\n",
       "      <td>55794</td>\n",
       "      <td>2</td>\n",
       "      <td>1935</td>\n",
       "      <td>86</td>\n",
       "    </tr>\n",
       "    <tr>\n",
       "      <th>399</th>\n",
       "      <td>The 39 Steps</td>\n",
       "      <td>7.6</td>\n",
       "      <td>55794</td>\n",
       "      <td>13</td>\n",
       "      <td>1935</td>\n",
       "      <td>86</td>\n",
       "    </tr>\n",
       "  </tbody>\n",
       "</table>\n",
       "<p>1030 rows × 6 columns</p>\n",
       "</div>"
      ],
      "text/plain": [
       "                        Title  Rating    Votes Genre Years  Runtime\n",
       "0                    Jai Bhim     9.3   175343     0  2021      164\n",
       "0                    Jai Bhim     9.3   175343     1  2021      164\n",
       "0                    Jai Bhim     9.3   175343     2  2021      164\n",
       "1    The Shawshank Redemption     9.3  2549198     1  1994      142\n",
       "2               The Godfather     9.2  1753345     0  1972      175\n",
       "..                        ...     ...      ...   ...   ...      ...\n",
       "398                  Lifeboat     7.6    28457     1  1944       97\n",
       "398                  Lifeboat     7.6    28457    11  1944       97\n",
       "399              The 39 Steps     7.6    55794     0  1935       86\n",
       "399              The 39 Steps     7.6    55794     2  1935       86\n",
       "399              The 39 Steps     7.6    55794    13  1935       86\n",
       "\n",
       "[1030 rows x 6 columns]"
      ]
     },
     "execution_count": 52,
     "metadata": {},
     "output_type": "execute_result"
    }
   ],
   "source": [
    "converted_df"
   ]
  },
  {
   "cell_type": "markdown",
   "id": "ca8df061",
   "metadata": {},
   "source": [
    "###### now that our data is clean, we can check the avarege rating in comparison to each column:"
   ]
  },
  {
   "cell_type": "code",
   "execution_count": 54,
   "id": "b3897f33",
   "metadata": {},
   "outputs": [
    {
     "data": {
      "text/html": [
       "<div>\n",
       "<style scoped>\n",
       "    .dataframe tbody tr th:only-of-type {\n",
       "        vertical-align: middle;\n",
       "    }\n",
       "\n",
       "    .dataframe tbody tr th {\n",
       "        vertical-align: top;\n",
       "    }\n",
       "\n",
       "    .dataframe thead th {\n",
       "        text-align: right;\n",
       "    }\n",
       "</style>\n",
       "<table border=\"1\" class=\"dataframe\">\n",
       "  <thead>\n",
       "    <tr style=\"text-align: right;\">\n",
       "      <th></th>\n",
       "      <th>Rating</th>\n",
       "      <th>Votes</th>\n",
       "      <th>Runtime</th>\n",
       "    </tr>\n",
       "  </thead>\n",
       "  <tbody>\n",
       "    <tr>\n",
       "      <th>0</th>\n",
       "      <td>7.6</td>\n",
       "      <td>2.338657e+05</td>\n",
       "      <td>118.515982</td>\n",
       "    </tr>\n",
       "    <tr>\n",
       "      <th>1</th>\n",
       "      <td>7.7</td>\n",
       "      <td>7.194230e+04</td>\n",
       "      <td>106.513514</td>\n",
       "    </tr>\n",
       "    <tr>\n",
       "      <th>2</th>\n",
       "      <td>7.8</td>\n",
       "      <td>2.518364e+05</td>\n",
       "      <td>124.634328</td>\n",
       "    </tr>\n",
       "    <tr>\n",
       "      <th>3</th>\n",
       "      <td>7.9</td>\n",
       "      <td>9.419700e+04</td>\n",
       "      <td>94.000000</td>\n",
       "    </tr>\n",
       "    <tr>\n",
       "      <th>4</th>\n",
       "      <td>8.0</td>\n",
       "      <td>3.626256e+05</td>\n",
       "      <td>129.082090</td>\n",
       "    </tr>\n",
       "    <tr>\n",
       "      <th>5</th>\n",
       "      <td>8.1</td>\n",
       "      <td>9.517984e+04</td>\n",
       "      <td>124.568966</td>\n",
       "    </tr>\n",
       "    <tr>\n",
       "      <th>6</th>\n",
       "      <td>8.3</td>\n",
       "      <td>1.341046e+05</td>\n",
       "      <td>135.846154</td>\n",
       "    </tr>\n",
       "    <tr>\n",
       "      <th>7</th>\n",
       "      <td>8.4</td>\n",
       "      <td>5.433965e+05</td>\n",
       "      <td>133.658228</td>\n",
       "    </tr>\n",
       "    <tr>\n",
       "      <th>8</th>\n",
       "      <td>8.5</td>\n",
       "      <td>7.782661e+05</td>\n",
       "      <td>118.444444</td>\n",
       "    </tr>\n",
       "    <tr>\n",
       "      <th>9</th>\n",
       "      <td>8.6</td>\n",
       "      <td>8.777087e+05</td>\n",
       "      <td>142.256410</td>\n",
       "    </tr>\n",
       "    <tr>\n",
       "      <th>10</th>\n",
       "      <td>8.7</td>\n",
       "      <td>8.022080e+05</td>\n",
       "      <td>145.782609</td>\n",
       "    </tr>\n",
       "    <tr>\n",
       "      <th>11</th>\n",
       "      <td>8.8</td>\n",
       "      <td>1.769496e+06</td>\n",
       "      <td>156.636364</td>\n",
       "    </tr>\n",
       "    <tr>\n",
       "      <th>12</th>\n",
       "      <td>8.9</td>\n",
       "      <td>1.636855e+06</td>\n",
       "      <td>187.000000</td>\n",
       "    </tr>\n",
       "    <tr>\n",
       "      <th>13</th>\n",
       "      <td>9.0</td>\n",
       "      <td>1.633915e+06</td>\n",
       "      <td>150.285714</td>\n",
       "    </tr>\n",
       "    <tr>\n",
       "      <th>14</th>\n",
       "      <td>9.1</td>\n",
       "      <td>1.076060e+05</td>\n",
       "      <td>153.000000</td>\n",
       "    </tr>\n",
       "    <tr>\n",
       "      <th>15</th>\n",
       "      <td>9.2</td>\n",
       "      <td>1.753345e+06</td>\n",
       "      <td>175.000000</td>\n",
       "    </tr>\n",
       "    <tr>\n",
       "      <th>16</th>\n",
       "      <td>9.3</td>\n",
       "      <td>7.688068e+05</td>\n",
       "      <td>158.500000</td>\n",
       "    </tr>\n",
       "  </tbody>\n",
       "</table>\n",
       "</div>"
      ],
      "text/plain": [
       "    Rating         Votes     Runtime\n",
       "0      7.6  2.338657e+05  118.515982\n",
       "1      7.7  7.194230e+04  106.513514\n",
       "2      7.8  2.518364e+05  124.634328\n",
       "3      7.9  9.419700e+04   94.000000\n",
       "4      8.0  3.626256e+05  129.082090\n",
       "5      8.1  9.517984e+04  124.568966\n",
       "6      8.3  1.341046e+05  135.846154\n",
       "7      8.4  5.433965e+05  133.658228\n",
       "8      8.5  7.782661e+05  118.444444\n",
       "9      8.6  8.777087e+05  142.256410\n",
       "10     8.7  8.022080e+05  145.782609\n",
       "11     8.8  1.769496e+06  156.636364\n",
       "12     8.9  1.636855e+06  187.000000\n",
       "13     9.0  1.633915e+06  150.285714\n",
       "14     9.1  1.076060e+05  153.000000\n",
       "15     9.2  1.753345e+06  175.000000\n",
       "16     9.3  7.688068e+05  158.500000"
      ]
     },
     "execution_count": 54,
     "metadata": {},
     "output_type": "execute_result"
    }
   ],
   "source": [
    "#Creating mean_df\n",
    "grouped_df = converted_df.groupby(\"Rating\")\n",
    "mean_df = grouped_df.mean()\n",
    "mean_df = mean_df.reset_index()\n",
    "mean_df"
   ]
  },
  {
   "cell_type": "markdown",
   "id": "b88a9aea",
   "metadata": {},
   "source": [
    "## 3- Splitting the Data - train & test "
   ]
  },
  {
   "cell_type": "markdown",
   "id": "b13ebc5b",
   "metadata": {},
   "source": [
    "### Dividing the Data into a test set (20%) and train set (80%)"
   ]
  },
  {
   "cell_type": "markdown",
   "id": "577b1e58",
   "metadata": {},
   "source": [
    "The train-test split is a technique for evaluating the performance of a machine learning algorithm.\n",
    "\n",
    "The procedure involves taking a dataset and dividing it into two subsets. \n",
    "\n",
    "The first subset is used to fit the model and is referred to as the training dataset. \n",
    "\n",
    "The second subset is provided to the model, then predictions are made and compared to the expected values. \n",
    "\n",
    "This second dataset is referred to as the test dataset."
   ]
  },
  {
   "cell_type": "code",
   "execution_count": 61,
   "id": "5b5e41ce",
   "metadata": {},
   "outputs": [],
   "source": [
    "train_set, test_set = train_test_split(converted_df, test_size = 0.2, random_state=35)"
   ]
  },
  {
   "cell_type": "code",
   "execution_count": 62,
   "id": "b5644e9f",
   "metadata": {},
   "outputs": [
    {
     "data": {
      "text/html": [
       "<div>\n",
       "<style scoped>\n",
       "    .dataframe tbody tr th:only-of-type {\n",
       "        vertical-align: middle;\n",
       "    }\n",
       "\n",
       "    .dataframe tbody tr th {\n",
       "        vertical-align: top;\n",
       "    }\n",
       "\n",
       "    .dataframe thead th {\n",
       "        text-align: right;\n",
       "    }\n",
       "</style>\n",
       "<table border=\"1\" class=\"dataframe\">\n",
       "  <thead>\n",
       "    <tr style=\"text-align: right;\">\n",
       "      <th></th>\n",
       "      <th>Title</th>\n",
       "      <th>Rating</th>\n",
       "      <th>Votes</th>\n",
       "      <th>Genre</th>\n",
       "      <th>Years</th>\n",
       "      <th>Runtime</th>\n",
       "    </tr>\n",
       "  </thead>\n",
       "  <tbody>\n",
       "    <tr>\n",
       "      <th>299</th>\n",
       "      <td>La double vie de Véronique</td>\n",
       "      <td>7.8</td>\n",
       "      <td>47096</td>\n",
       "      <td>1</td>\n",
       "      <td>1991</td>\n",
       "      <td>98</td>\n",
       "    </tr>\n",
       "    <tr>\n",
       "      <th>151</th>\n",
       "      <td>Togo</td>\n",
       "      <td>8.0</td>\n",
       "      <td>45904</td>\n",
       "      <td>1</td>\n",
       "      <td>1988</td>\n",
       "      <td>113</td>\n",
       "    </tr>\n",
       "    <tr>\n",
       "      <th>264</th>\n",
       "      <td>The Curious Case of Benjamin Button</td>\n",
       "      <td>7.8</td>\n",
       "      <td>628698</td>\n",
       "      <td>8</td>\n",
       "      <td>2008</td>\n",
       "      <td>166</td>\n",
       "    </tr>\n",
       "    <tr>\n",
       "      <th>330</th>\n",
       "      <td>Philomena</td>\n",
       "      <td>7.6</td>\n",
       "      <td>98579</td>\n",
       "      <td>1</td>\n",
       "      <td>2013</td>\n",
       "      <td>98</td>\n",
       "    </tr>\n",
       "    <tr>\n",
       "      <th>220</th>\n",
       "      <td>Pride</td>\n",
       "      <td>7.8</td>\n",
       "      <td>55291</td>\n",
       "      <td>5</td>\n",
       "      <td>2014</td>\n",
       "      <td>119</td>\n",
       "    </tr>\n",
       "    <tr>\n",
       "      <th>...</th>\n",
       "      <td>...</td>\n",
       "      <td>...</td>\n",
       "      <td>...</td>\n",
       "      <td>...</td>\n",
       "      <td>...</td>\n",
       "      <td>...</td>\n",
       "    </tr>\n",
       "    <tr>\n",
       "      <th>71</th>\n",
       "      <td>The Dark Knight Rises</td>\n",
       "      <td>8.4</td>\n",
       "      <td>1620268</td>\n",
       "      <td>1</td>\n",
       "      <td>2012</td>\n",
       "      <td>164</td>\n",
       "    </tr>\n",
       "    <tr>\n",
       "      <th>288</th>\n",
       "      <td>Gattaca</td>\n",
       "      <td>7.8</td>\n",
       "      <td>295115</td>\n",
       "      <td>7</td>\n",
       "      <td>1997</td>\n",
       "      <td>106</td>\n",
       "    </tr>\n",
       "    <tr>\n",
       "      <th>372</th>\n",
       "      <td>The Thin Red Line</td>\n",
       "      <td>7.6</td>\n",
       "      <td>183986</td>\n",
       "      <td>11</td>\n",
       "      <td>1998</td>\n",
       "      <td>170</td>\n",
       "    </tr>\n",
       "    <tr>\n",
       "      <th>390</th>\n",
       "      <td>Kelly's Heroes</td>\n",
       "      <td>7.6</td>\n",
       "      <td>48435</td>\n",
       "      <td>11</td>\n",
       "      <td>1970</td>\n",
       "      <td>144</td>\n",
       "    </tr>\n",
       "    <tr>\n",
       "      <th>370</th>\n",
       "      <td>Minority Report</td>\n",
       "      <td>7.6</td>\n",
       "      <td>536184</td>\n",
       "      <td>3</td>\n",
       "      <td>2002</td>\n",
       "      <td>145</td>\n",
       "    </tr>\n",
       "  </tbody>\n",
       "</table>\n",
       "<p>824 rows × 6 columns</p>\n",
       "</div>"
      ],
      "text/plain": [
       "                                   Title  Rating    Votes Genre Years  Runtime\n",
       "299           La double vie de Véronique     7.8    47096     1  1991       98\n",
       "151                                 Togo     8.0    45904     1  1988      113\n",
       "264  The Curious Case of Benjamin Button     7.8   628698     8  2008      166\n",
       "330                            Philomena     7.6    98579     1  2013       98\n",
       "220                                Pride     7.8    55291     5  2014      119\n",
       "..                                   ...     ...      ...   ...   ...      ...\n",
       "71                 The Dark Knight Rises     8.4  1620268     1  2012      164\n",
       "288                              Gattaca     7.8   295115     7  1997      106\n",
       "372                    The Thin Red Line     7.6   183986    11  1998      170\n",
       "390                       Kelly's Heroes     7.6    48435    11  1970      144\n",
       "370                      Minority Report     7.6   536184     3  2002      145\n",
       "\n",
       "[824 rows x 6 columns]"
      ]
     },
     "execution_count": 62,
     "metadata": {},
     "output_type": "execute_result"
    }
   ],
   "source": [
    "train_set"
   ]
  },
  {
   "cell_type": "code",
   "execution_count": 63,
   "id": "46c650d5",
   "metadata": {},
   "outputs": [
    {
     "data": {
      "text/html": [
       "<div>\n",
       "<style scoped>\n",
       "    .dataframe tbody tr th:only-of-type {\n",
       "        vertical-align: middle;\n",
       "    }\n",
       "\n",
       "    .dataframe tbody tr th {\n",
       "        vertical-align: top;\n",
       "    }\n",
       "\n",
       "    .dataframe thead th {\n",
       "        text-align: right;\n",
       "    }\n",
       "</style>\n",
       "<table border=\"1\" class=\"dataframe\">\n",
       "  <thead>\n",
       "    <tr style=\"text-align: right;\">\n",
       "      <th></th>\n",
       "      <th>Title</th>\n",
       "      <th>Rating</th>\n",
       "      <th>Votes</th>\n",
       "      <th>Genre</th>\n",
       "      <th>Years</th>\n",
       "      <th>Runtime</th>\n",
       "    </tr>\n",
       "  </thead>\n",
       "  <tbody>\n",
       "    <tr>\n",
       "      <th>351</th>\n",
       "      <td>Harry Potter and the Half-Blood Prince</td>\n",
       "      <td>7.6</td>\n",
       "      <td>520510</td>\n",
       "      <td>3</td>\n",
       "      <td>2009</td>\n",
       "      <td>153</td>\n",
       "    </tr>\n",
       "    <tr>\n",
       "      <th>322</th>\n",
       "      <td>Gifted</td>\n",
       "      <td>7.6</td>\n",
       "      <td>111614</td>\n",
       "      <td>1</td>\n",
       "      <td>2017</td>\n",
       "      <td>101</td>\n",
       "    </tr>\n",
       "    <tr>\n",
       "      <th>168</th>\n",
       "      <td>Blade Runner 2049</td>\n",
       "      <td>8.0</td>\n",
       "      <td>529201</td>\n",
       "      <td>3</td>\n",
       "      <td>2018</td>\n",
       "      <td>164</td>\n",
       "    </tr>\n",
       "    <tr>\n",
       "      <th>186</th>\n",
       "      <td>The Pursuit of Happyness</td>\n",
       "      <td>8.0</td>\n",
       "      <td>488759</td>\n",
       "      <td>5</td>\n",
       "      <td>1957</td>\n",
       "      <td>117</td>\n",
       "    </tr>\n",
       "    <tr>\n",
       "      <th>206</th>\n",
       "      <td>Isle of Dogs</td>\n",
       "      <td>7.8</td>\n",
       "      <td>160331</td>\n",
       "      <td>12</td>\n",
       "      <td>2018</td>\n",
       "      <td>101</td>\n",
       "    </tr>\n",
       "    <tr>\n",
       "      <th>...</th>\n",
       "      <td>...</td>\n",
       "      <td>...</td>\n",
       "      <td>...</td>\n",
       "      <td>...</td>\n",
       "      <td>...</td>\n",
       "      <td>...</td>\n",
       "    </tr>\n",
       "    <tr>\n",
       "      <th>309</th>\n",
       "      <td>The Ladykillers</td>\n",
       "      <td>7.7</td>\n",
       "      <td>28781</td>\n",
       "      <td>0</td>\n",
       "      <td>1955</td>\n",
       "      <td>91</td>\n",
       "    </tr>\n",
       "    <tr>\n",
       "      <th>253</th>\n",
       "      <td>The Hobbit: An Unexpected Journey</td>\n",
       "      <td>7.8</td>\n",
       "      <td>797453</td>\n",
       "      <td>4</td>\n",
       "      <td>2012</td>\n",
       "      <td>169</td>\n",
       "    </tr>\n",
       "    <tr>\n",
       "      <th>307</th>\n",
       "      <td>Invasion of the Body Snatchers</td>\n",
       "      <td>7.7</td>\n",
       "      <td>48428</td>\n",
       "      <td>7</td>\n",
       "      <td>1956</td>\n",
       "      <td>80</td>\n",
       "    </tr>\n",
       "    <tr>\n",
       "      <th>152</th>\n",
       "      <td>Airlift</td>\n",
       "      <td>8.0</td>\n",
       "      <td>55967</td>\n",
       "      <td>1</td>\n",
       "      <td>1985</td>\n",
       "      <td>130</td>\n",
       "    </tr>\n",
       "    <tr>\n",
       "      <th>55</th>\n",
       "      <td>Rear Window</td>\n",
       "      <td>8.5</td>\n",
       "      <td>476038</td>\n",
       "      <td>13</td>\n",
       "      <td>1954</td>\n",
       "      <td>112</td>\n",
       "    </tr>\n",
       "  </tbody>\n",
       "</table>\n",
       "<p>206 rows × 6 columns</p>\n",
       "</div>"
      ],
      "text/plain": [
       "                                      Title  Rating   Votes Genre Years  \\\n",
       "351  Harry Potter and the Half-Blood Prince     7.6  520510     3  2009   \n",
       "322                                  Gifted     7.6  111614     1  2017   \n",
       "168                       Blade Runner 2049     8.0  529201     3  2018   \n",
       "186                The Pursuit of Happyness     8.0  488759     5  1957   \n",
       "206                            Isle of Dogs     7.8  160331    12  2018   \n",
       "..                                      ...     ...     ...   ...   ...   \n",
       "309                         The Ladykillers     7.7   28781     0  1955   \n",
       "253       The Hobbit: An Unexpected Journey     7.8  797453     4  2012   \n",
       "307          Invasion of the Body Snatchers     7.7   48428     7  1956   \n",
       "152                                 Airlift     8.0   55967     1  1985   \n",
       "55                              Rear Window     8.5  476038    13  1954   \n",
       "\n",
       "     Runtime  \n",
       "351      153  \n",
       "322      101  \n",
       "168      164  \n",
       "186      117  \n",
       "206      101  \n",
       "..       ...  \n",
       "309       91  \n",
       "253      169  \n",
       "307       80  \n",
       "152      130  \n",
       "55       112  \n",
       "\n",
       "[206 rows x 6 columns]"
      ]
     },
     "execution_count": 63,
     "metadata": {},
     "output_type": "execute_result"
    }
   ],
   "source": [
    "test_set"
   ]
  },
  {
   "cell_type": "markdown",
   "id": "2d0a30bc",
   "metadata": {},
   "source": [
    "#### Making sure that there aren't any null values"
   ]
  },
  {
   "cell_type": "code",
   "execution_count": 64,
   "id": "289d2e4d",
   "metadata": {},
   "outputs": [
    {
     "data": {
      "text/plain": [
       "Title      0\n",
       "Rating     0\n",
       "Votes      0\n",
       "Genre      0\n",
       "Years      0\n",
       "Runtime    0\n",
       "dtype: int64"
      ]
     },
     "execution_count": 64,
     "metadata": {},
     "output_type": "execute_result"
    }
   ],
   "source": [
    "train_set.isnull().sum()"
   ]
  },
  {
   "cell_type": "code",
   "execution_count": 65,
   "id": "1b5f3f8c",
   "metadata": {},
   "outputs": [
    {
     "data": {
      "text/plain": [
       "Title      0\n",
       "Rating     0\n",
       "Votes      0\n",
       "Genre      0\n",
       "Years      0\n",
       "Runtime    0\n",
       "dtype: int64"
      ]
     },
     "execution_count": 65,
     "metadata": {},
     "output_type": "execute_result"
    }
   ],
   "source": [
    "test_set.isnull().sum()"
   ]
  },
  {
   "cell_type": "code",
   "execution_count": 66,
   "id": "0cbd2d70",
   "metadata": {},
   "outputs": [],
   "source": [
    "x_train = train_set[['Genre', 'Years','Runtime','Votes']]\n",
    "y_train = train_set['Rating']\n",
    "\n",
    "x_test = test_set[['Genre', 'Years' , 'Runtime' , 'Votes']]\n",
    "y_test = test_set['Rating']"
   ]
  },
  {
   "cell_type": "markdown",
   "id": "fcd3d200",
   "metadata": {},
   "source": [
    "##  4- Visualization"
   ]
  },
  {
   "cell_type": "markdown",
   "id": "52850ebc",
   "metadata": {},
   "source": [
    "#### This bar plot shows us the different genres and the amount of each genre in our dataset."
   ]
  },
  {
   "cell_type": "code",
   "execution_count": 69,
   "id": "da4b6c42",
   "metadata": {},
   "outputs": [
    {
     "data": {
      "image/png": "[encoded data removed]",
      "text/plain": [
       "<Figure size 864x576 with 1 Axes>"
      ]
     },
     "metadata": {
      "needs_background": "light"
     },
     "output_type": "display_data"
    }
   ],
   "source": [
    "plt.figure(figsize=(12,8))\n",
    "counts = converted_df.Genre.value_counts()\n",
    "sns.barplot(x=counts.index, y=counts)\n",
    "plt.xlabel(' movie Genre')\n",
    "plt.ylabel('Count')\n",
    "plt.xticks(rotation=40);"
   ]
  },
  {
   "cell_type": "markdown",
   "id": "ce3eac9f",
   "metadata": {},
   "source": [
    "#### In these histograms you can see the numeric data in ranges, where each bar represents how frequently numbers fall into a particular range."
   ]
  },
  {
   "cell_type": "code",
   "execution_count": 70,
   "id": "434cd569",
   "metadata": {},
   "outputs": [
    {
     "data": {
      "text/plain": [
       "array([[<AxesSubplot:title={'center':'Rating'}>,\n",
       "        <AxesSubplot:title={'center':'Votes'}>],\n",
       "       [<AxesSubplot:title={'center':'Runtime'}>, <AxesSubplot:>]],\n",
       "      dtype=object)"
      ]
     },
     "execution_count": 70,
     "metadata": {},
     "output_type": "execute_result"
    },
    {
     "data": {
      "image/png": "[encoded data removed]",
      "text/plain": [
       "<Figure size 720x504 with 4 Axes>"
      ]
     },
     "metadata": {
      "needs_background": "light"
     },
     "output_type": "display_data"
    }
   ],
   "source": [
    "fig_size=(20,15)\n",
    "train_set.hist(bins=100, figsize=(10,7))"
   ]
  },
  {
   "cell_type": "markdown",
   "id": "11eea1ae",
   "metadata": {},
   "source": [
    "## 5- Searching for Correlation"
   ]
  },
  {
   "cell_type": "markdown",
   "id": "b16abdcd",
   "metadata": {},
   "source": [
    "Correlation is a term used to represent the statistical measure of linear relationship between two variables. \n",
    "It can also be defined as the measure of dependence between two different variables. \n",
    "If there are multiple variables and the goal is to find correlation between all of these variables and store them using appropriate data structure, the matrix data structure is used."
   ]
  },
  {
   "cell_type": "code",
   "execution_count": 71,
   "id": "6d75bc7b",
   "metadata": {},
   "outputs": [
    {
     "data": {
      "text/plain": [
       "array([[<AxesSubplot:xlabel='Rating', ylabel='Rating'>,\n",
       "        <AxesSubplot:xlabel='Votes', ylabel='Rating'>,\n",
       "        <AxesSubplot:xlabel='Runtime', ylabel='Rating'>],\n",
       "       [<AxesSubplot:xlabel='Rating', ylabel='Votes'>,\n",
       "        <AxesSubplot:xlabel='Votes', ylabel='Votes'>,\n",
       "        <AxesSubplot:xlabel='Runtime', ylabel='Votes'>],\n",
       "       [<AxesSubplot:xlabel='Rating', ylabel='Runtime'>,\n",
       "        <AxesSubplot:xlabel='Votes', ylabel='Runtime'>,\n",
       "        <AxesSubplot:xlabel='Runtime', ylabel='Runtime'>]], dtype=object)"
      ]
     },
     "execution_count": 71,
     "metadata": {},
     "output_type": "execute_result"
    },
    {
     "data": {
      "image/png": "[encoded data removed]",
      "text/plain": [
       "<Figure size 1296x864 with 9 Axes>"
      ]
     },
     "metadata": {
      "needs_background": "light"
     },
     "output_type": "display_data"
    }
   ],
   "source": [
    "scatter_matrix(train_set, figsize=(18, 12))"
   ]
  },
  {
   "cell_type": "markdown",
   "id": "444616b2",
   "metadata": {},
   "source": [
    "#### Scatterplots show possible associations or relationships between two variables. We can see that there is a moderate positive relationship between the Rating and Votes."
   ]
  },
  {
   "cell_type": "code",
   "execution_count": 199,
   "id": "95b9312e",
   "metadata": {},
   "outputs": [
    {
     "data": {
      "text/plain": [
       "<AxesSubplot:>"
      ]
     },
     "execution_count": 199,
     "metadata": {},
     "output_type": "execute_result"
    },
    {
     "data": {
      "image/png": "[encoded data removed]",
      "text/plain": [
       "<Figure size 432x288 with 2 Axes>"
      ]
     },
     "metadata": {
      "needs_background": "light"
     },
     "output_type": "display_data"
    }
   ],
   "source": [
    "sns.heatmap(train_set.corr(), annot = True)"
   ]
  },
  {
   "cell_type": "markdown",
   "id": "11871a4c",
   "metadata": {},
   "source": [
    "#### According to the heatmap, we can see that there is a partial correlation between the rating and the amount of votes. In comparison to other variables from the dataset, the amount of votes has greater correlation than the rest of the categories."
   ]
  },
  {
   "cell_type": "code",
   "execution_count": 72,
   "id": "c6401c7a",
   "metadata": {},
   "outputs": [
    {
     "data": {
      "image/png": "[encoded data removed]",
      "text/plain": [
       "<Figure size 432x432 with 1 Axes>"
      ]
     },
     "metadata": {},
     "output_type": "display_data"
    }
   ],
   "source": [
    "fig, ax = plt.subplots(figsize=(6, 6))\n",
    "\n",
    "grouped_genre = converted_df.groupby(\"Genre\")\n",
    "genre_df = grouped_genre.mean()\n",
    "genre_df = genre_df.reset_index()\n",
    "\n",
    "x= genre_df['Rating']\n",
    "labels= genre_df['Genre']\n",
    "\n",
    "# Capture each of the return elements\n",
    "patches, texts, pcts = ax.pie(\n",
    "    x, labels=labels, autopct='%.1f%%',\n",
    "    wedgeprops={'linewidth': 3.0, 'edgecolor': 'white'},\n",
    "    textprops={'size': 'x-small'})\n",
    "\n",
    "# Style the percent values\n",
    "plt.setp(pcts, color='white', fontweight='bold')\n",
    "ax.set_title('Rating per genre ratio', fontsize=18)\n",
    "plt.tight_layout()"
   ]
  },
  {
   "cell_type": "markdown",
   "id": "816837ec",
   "metadata": {},
   "source": [
    "#### With this pie chart we can see that the average rating per genre is approximately the same for each genre. Therefore, there might be slim to no correlation at all between the two."
   ]
  },
  {
   "cell_type": "markdown",
   "id": "b5fc1be7",
   "metadata": {},
   "source": [
    "# 6- Comparing the Models"
   ]
  },
  {
   "cell_type": "markdown",
   "id": "eb5115f4",
   "metadata": {},
   "source": [
    "### R squared scoring explained"
   ]
  },
  {
   "cell_type": "markdown",
   "id": "64cfd07a",
   "metadata": {},
   "source": [
    "We will use R2 as our scoring system. R-squared is a statistical measure of how close the data is to the fitted regression line. It is also known as the coefficient of determination.The r2 score for perfect model is 1.0.\n",
    "On the other hand, the r2 score for a model which predicts mean value is 0.0.\n",
    "\n",
    "The formula for calculating R2 is as follows:\n",
    "R2 = (var(mean) – var(line))/var(mean) = 1-(var(line)/var(mean))"
   ]
  },
  {
   "cell_type": "markdown",
   "id": "4eb0f512",
   "metadata": {},
   "source": [
    "### Linear regression"
   ]
  },
  {
   "cell_type": "markdown",
   "id": "ed242f0a",
   "metadata": {},
   "source": [
    "Linear regression is a linear approach for modelling the relationship between a scalar response and one or more explanatory variables"
   ]
  },
  {
   "cell_type": "code",
   "execution_count": 77,
   "id": "0df4b988",
   "metadata": {},
   "outputs": [],
   "source": [
    "linear_reg = linear_model.LinearRegression()\n",
    "folds = KFold(n_splits = 14, shuffle = True, random_state = 42)"
   ]
  },
  {
   "cell_type": "code",
   "execution_count": 78,
   "id": "74abe856",
   "metadata": {},
   "outputs": [
    {
     "name": "stdout",
     "output_type": "stream",
     "text": [
      "[ 0.1881363   0.33750035  0.30325487  0.50892961  0.45796196  0.30642784\n",
      "  0.4243119  -0.01950881  0.07887765  0.39544527  0.36085312  0.31850247\n",
      "  0.36398236  0.32529274]\n"
     ]
    },
    {
     "data": {
      "text/plain": [
       "0.31071197327785666"
      ]
     },
     "execution_count": 78,
     "metadata": {},
     "output_type": "execute_result"
    }
   ],
   "source": [
    "l_scores = cross_val_score(linear_reg, x_train, y_train, scoring='r2', cv=folds)\n",
    "print(l_scores)\n",
    "np.mean(l_scores)"
   ]
  },
  {
   "cell_type": "markdown",
   "id": "77d3711e",
   "metadata": {},
   "source": [
    "### knn"
   ]
  },
  {
   "cell_type": "markdown",
   "id": "666a2285",
   "metadata": {},
   "source": [
    "The KNN algorithm assumes that similar things exist close to one another."
   ]
  },
  {
   "cell_type": "code",
   "execution_count": 79,
   "id": "4bf8620a",
   "metadata": {},
   "outputs": [
    {
     "name": "stdout",
     "output_type": "stream",
     "text": [
      "[0.44785613 0.47847663 0.55339034 0.69671968 0.59643658 0.49032598\n",
      " 0.4073486  0.32850777 0.31931666 0.44460467 0.59165648 0.38081012\n",
      " 0.44434419 0.49032868]\n"
     ]
    },
    {
     "data": {
      "text/plain": [
       "0.4764373226978444"
      ]
     },
     "execution_count": 79,
     "metadata": {},
     "output_type": "execute_result"
    }
   ],
   "source": [
    "knn_reg = KNeighborsRegressor()\n",
    "knn_scores = cross_val_score(knn_reg, x_train, y_train, scoring='r2', cv=folds)\n",
    "print(knn_scores)\n",
    "np.mean(knn_scores)"
   ]
  },
  {
   "cell_type": "code",
   "execution_count": 175,
   "id": "59bd0c3c",
   "metadata": {},
   "outputs": [
    {
     "data": {
      "image/png": "[encoded data removed]",
      "text/plain": [
       "<Figure size 432x288 with 1 Axes>"
      ]
     },
     "metadata": {
      "needs_background": "light"
     },
     "output_type": "display_data"
    }
   ],
   "source": [
    "k_range = range(1, 40)\n",
    "k_scores = []\n",
    "\n",
    "for k in k_range:\n",
    "    knn_reg = KNeighborsRegressor(n_neighbors=k)\n",
    "    scores = cross_val_score(knn_reg, x_train, y_train, cv=folds, scoring='r2')\n",
    "    k_scores.append(scores.mean())\n",
    "plt.plot(k_range, k_scores)\n",
    "plt.xlabel('Value of K for KNN')\n",
    "plt.ylabel('Cross-Validated Accuracy')\n",
    "plt.show()"
   ]
  },
  {
   "cell_type": "markdown",
   "id": "a97fec5e",
   "metadata": {},
   "source": [
    "### Decision Tree Regressor"
   ]
  },
  {
   "cell_type": "markdown",
   "id": "1cfa3052",
   "metadata": {},
   "source": [
    " decision tree regressor builds regression or classification models in the form of a tree structure"
   ]
  },
  {
   "cell_type": "code",
   "execution_count": 187,
   "id": "72ec8730",
   "metadata": {},
   "outputs": [
    {
     "name": "stdout",
     "output_type": "stream",
     "text": [
      "[0.66569035 0.8066235  0.80468966 0.77450376 0.81887347 0.91514861\n",
      " 0.80587952 0.15326673 0.59562171 0.87931384 0.84841934 0.7809883\n",
      " 0.8675146  0.94495355]\n"
     ]
    },
    {
     "data": {
      "text/plain": [
       "0.7615347805947911"
      ]
     },
     "execution_count": 187,
     "metadata": {},
     "output_type": "execute_result"
    }
   ],
   "source": [
    "regressor = DecisionTreeRegressor(max_depth=22)\n",
    "dt_scores= cross_val_score(regressor, x_train, y_train, cv=folds, scoring='r2')\n",
    "print(dt_scores)\n",
    "np.mean(dt_scores)"
   ]
  },
  {
   "cell_type": "code",
   "execution_count": 192,
   "id": "917e6406",
   "metadata": {},
   "outputs": [
    {
     "data": {
      "image/png": "[encoded data removed]",
      "text/plain": [
       "<Figure size 432x288 with 1 Axes>"
      ]
     },
     "metadata": {
      "needs_background": "light"
     },
     "output_type": "display_data"
    }
   ],
   "source": [
    "k_range = range(1, 315)\n",
    "k_scores = []\n",
    "\n",
    "for k in k_range:\n",
    "    dtr = DecisionTreeRegressor(max_depth=k)\n",
    "    scores = cross_val_score(dtr, x_train, y_train, cv=folds, scoring='r2')\n",
    "    k_scores.append(scores.mean())\n",
    "    \n",
    "# plot to see clearly\n",
    "plt.plot(k_range, k_scores)\n",
    "plt.xlabel('Max Depth in Decision Tree')\n",
    "plt.ylabel('R squared Cross Validation')\n",
    "plt.show()"
   ]
  },
  {
   "cell_type": "markdown",
   "id": "efa20799",
   "metadata": {},
   "source": [
    "### linear kernel"
   ]
  },
  {
   "cell_type": "markdown",
   "id": "11ad30a9",
   "metadata": {},
   "source": [
    "linear kernel isws used when the data is Linearly separable, that is, it can be separated using a single Line.  It is mostly used when there are a Large number of Features in a particular Data Set. it devides the data with a single line."
   ]
  },
  {
   "cell_type": "code",
   "execution_count": null,
   "id": "3263584d",
   "metadata": {},
   "outputs": [],
   "source": [
    "from sklearn.svm import SVR\n",
    "from sklearn.metrics import mean_absolute_error as MAE\n",
    "from sklearn.model_selection import cross_val_score\n",
    "from sklearn.model_selection import cross_val_predict"
   ]
  },
  {
   "cell_type": "code",
   "execution_count": 208,
   "id": "4b0a3e11",
   "metadata": {},
   "outputs": [],
   "source": [
    "svr_lin = SVR(kernel=\"linear\", C=100, gamma=\"auto\")\n",
    "svr_poly = SVR(kernel=\"poly\", C=100, gamma=\"auto\", degree=3)"
   ]
  },
  {
   "cell_type": "code",
   "execution_count": 215,
   "id": "b78b593b",
   "metadata": {},
   "outputs": [
    {
     "name": "stdout",
     "output_type": "stream",
     "text": [
      "0.365731412632751\n",
      "642.8643367786706\n"
     ]
    }
   ],
   "source": [
    "kf = KFold(n_splits=5, random_state=42, shuffle=True)\n",
    "scores = cross_val_score(svr_lin, x_train, y_train, scoring='r2', cv=kf, n_jobs=-1)\n",
    "y_predict = cross_val_predict(svr_lin, x_train, y_train, cv=kf)\n",
    "mae = MAE(y_train,y_predict)\n",
    "print(scores.mean())\n",
    "print(mae)"
   ]
  },
  {
   "cell_type": "markdown",
   "id": "db72df67",
   "metadata": {},
   "source": [
    "### Polynomial kernel"
   ]
  },
  {
   "cell_type": "markdown",
   "id": "74b9ceae",
   "metadata": {},
   "source": [
    " polynomial kernel, represents the similarity of vectors (training samples) in a feature space over polynomials of the original variables, allowing learning of non-linear models."
   ]
  },
  {
   "cell_type": "code",
   "execution_count": 213,
   "id": "3161ad27",
   "metadata": {},
   "outputs": [
    {
     "name": "stdout",
     "output_type": "stream",
     "text": [
      "0.447641578997086\n",
      "502.6203759005602\n"
     ]
    }
   ],
   "source": [
    "kf = KFold(n_splits=5, random_state=42, shuffle=True)\n",
    "scores = cross_val_score(svr_poly, x_train, y_train, scoring='r2', cv=kf, n_jobs=-1)\n",
    "y_predict = cross_val_predict(svr_poly, x_train, y_train, cv=kf)\n",
    "mae = MAE(y_train,y_predict)\n",
    "print(scores.mean())\n",
    "print(mae)"
   ]
  },
  {
   "cell_type": "markdown",
   "id": "f8e105fb",
   "metadata": {},
   "source": [
    "### random forest regressor"
   ]
  },
  {
   "cell_type": "code",
   "execution_count": 218,
   "id": "3b462746",
   "metadata": {},
   "outputs": [],
   "source": [
    "from sklearn.ensemble import RandomForestRegressor"
   ]
  },
  {
   "cell_type": "code",
   "execution_count": 217,
   "id": "5d984641",
   "metadata": {},
   "outputs": [
    {
     "name": "stdout",
     "output_type": "stream",
     "text": [
      "R2 score:0.5839649060857325\n",
      "MAE score:415.5191595822072\n"
     ]
    }
   ],
   "source": [
    "RFR = RandomForestRegressor(n_estimators =36,min_samples_split = 10,min_samples_leaf = 4,max_features ='sqrt',max_depth = 20,bootstrap = True)\n",
    "kf = KFold(n_splits=5, random_state=42, shuffle=True)\n",
    "R2 = cross_val_score(RFR, x_train, y_train, cv=kf, scoring='r2')\n",
    "y_predict = cross_val_predict(RFR, x_train, y_train, cv=kf)\n",
    "mae_standarsized = MAE(y_train, y_predict)\n",
    "print(\"R2 score:\" +(str)(R2.mean()))\n",
    "print(\"MAE score:\" +(str)(mae_standarsized))"
   ]
  },
  {
   "cell_type": "markdown",
   "id": "ab1b0a27",
   "metadata": {},
   "source": [
    "## as we can see our best model is decision tree"
   ]
  },
  {
   "cell_type": "markdown",
   "id": "58b0fa06",
   "metadata": {},
   "source": [
    "# 7-  Evaluating the Chosen Model"
   ]
  },
  {
   "cell_type": "markdown",
   "id": "d0ce366e",
   "metadata": {},
   "source": [
    "as we can see our best model is decision tree"
   ]
  },
  {
   "cell_type": "markdown",
   "id": "b11e9040",
   "metadata": {},
   "source": [
    "Using cross validation in order to evaluate further the Decision Tree Model in order to choose the right max depth. "
   ]
  },
  {
   "cell_type": "code",
   "execution_count": 220,
   "id": "53567d71",
   "metadata": {},
   "outputs": [
    {
     "data": {
      "image/png": "[encoded data removed]",
      "text/plain": [
       "<Figure size 432x288 with 1 Axes>"
      ]
     },
     "metadata": {
      "needs_background": "light"
     },
     "output_type": "display_data"
    }
   ],
   "source": [
    "k_range = range(1, 35)\n",
    "k_scores = []\n",
    "\n",
    "for k in k_range:\n",
    "    dtr = DecisionTreeRegressor(max_depth=k)\n",
    "    scores = cross_val_score(dtr, x_train, y_train, cv=folds, scoring='r2')\n",
    "    k_scores.append(scores.mean())\n",
    "    \n",
    "# plot to see clearly\n",
    "plt.plot(k_range, k_scores)\n",
    "plt.xlabel('Max Depth in Decision Tree')\n",
    "plt.ylabel('R squared Cross Validation')\n",
    "plt.show()"
   ]
  },
  {
   "cell_type": "markdown",
   "id": "59bdef28",
   "metadata": {},
   "source": [
    "# 8- Dummy Model"
   ]
  },
  {
   "cell_type": "markdown",
   "id": "6ed70200",
   "metadata": {},
   "source": [
    "The Dummy Regressor is a kind of Regressor that gives prediction based on simple strategies without paying any attention to the input Data.\n",
    "\n",
    "To understand how better both the model performed the evaluation metrics such as mean squared error, median absolute error and r2_ score are calculated for both the linear and dummy models."
   ]
  },
  {
   "cell_type": "code",
   "execution_count": 89,
   "id": "26a444cd",
   "metadata": {},
   "outputs": [],
   "source": [
    "regressor = DecisionTreeRegressor(max_depth=22) \n",
    "regressor.fit(x_train, y_train)\n",
    "\n",
    "dummy_mean = DummyRegressor(strategy = 'mean').fit(x_train, y_train)\n",
    "y_predict = regressor.predict(x_test)\n",
    "y_predict_dummy_mean = dummy_mean.predict(x_test)"
   ]
  },
  {
   "cell_type": "code",
   "execution_count": 90,
   "id": "0cfaaa6a",
   "metadata": {},
   "outputs": [
    {
     "data": {
      "text/plain": [
       "array([7.6, 7.6, 8. , 8. , 7.8, 8.4, 8. , 8.9, 7.7, 7.6, 7.8, 7.6, 7.6,\n",
       "       7.8, 7.6, 8. , 7.8, 8.7, 8.1, 8.5, 7.8, 7.8, 7.8, 7.8, 8. , 8.6,\n",
       "       7.6, 7.9, 8. , 7.8, 7.6, 8.4, 7.8, 8.4, 8.7, 8.4, 8.7, 7.6, 8.1,\n",
       "       8.6, 7.8, 7.8, 8.6, 7.8, 8. , 7.6, 8. , 7.6, 8.4, 8.1, 7.8, 7.8,\n",
       "       7.6, 8. , 7.8, 7.8, 8.6, 7.7, 8. , 8.5, 8. , 8. , 7.6, 8. , 8.1,\n",
       "       7.6, 8.4, 8.7, 8. , 7.8, 7.6, 7.6, 8. , 8.3, 7.6, 7.6, 8. , 8.3,\n",
       "       8.7, 7.8, 7.6, 7.8, 7.8, 7.8, 8.7, 7.8, 8.5, 7.6, 8.5, 8.4, 8. ,\n",
       "       8. , 8.5, 8. , 8.4, 7.8, 8.5, 7.6, 7.8, 7.6, 8.4, 7.8, 8.4, 7.6,\n",
       "       8.1, 8.5, 7.8, 7.6, 8. , 7.8, 8.7, 8.5, 7.8, 7.6, 8.9, 7.8, 7.6,\n",
       "       8.1, 8.9, 8.4, 7.8, 8.4, 7.8, 7.8, 8.3, 8.7, 8. , 7.6, 8.1, 8.4,\n",
       "       7.6, 7.6, 8.1, 7.8, 8.1, 7.6, 7.8, 7.8, 7.8, 8. , 8.4, 8.5, 7.6,\n",
       "       8. , 7.8, 7.8, 7.6, 7.6, 7.6, 7.8, 7.8, 8.1, 8.4, 8.6, 7.8, 8. ,\n",
       "       7.6, 7.6, 8. , 8. , 7.8, 8.1, 8.6, 8. , 7.6, 8.6, 8. , 8.5, 7.6,\n",
       "       8. , 7.6, 8.3, 8.1, 7.8, 7.7, 8. , 8.5, 8.1, 8.4, 7.6, 8. , 8.6,\n",
       "       7.6, 8.1, 8.4, 7.8, 7.6, 7.6, 7.6, 7.8, 7.6, 8.4, 7.9, 8.4, 7.8,\n",
       "       7.8, 7.6, 7.8, 8. , 7.8, 7.8, 7.7, 7.8, 7.7, 8. , 8.4])"
      ]
     },
     "execution_count": 90,
     "metadata": {},
     "output_type": "execute_result"
    }
   ],
   "source": [
    "y_predict"
   ]
  },
  {
   "cell_type": "code",
   "execution_count": 91,
   "id": "33ee7c94",
   "metadata": {},
   "outputs": [
    {
     "name": "stdout",
     "output_type": "stream",
     "text": [
      "R squared score for Dummy Model): -0.00\n"
     ]
    }
   ],
   "source": [
    "print(\"R squared score for Dummy Model): {:.2f}\".format(r2_score(y_test, y_predict_dummy_mean)))"
   ]
  },
  {
   "cell_type": "markdown",
   "id": "cd8647e8",
   "metadata": {},
   "source": [
    "# 9- croos val "
   ]
  },
  {
   "cell_type": "code",
   "execution_count": 219,
   "id": "b4002b42",
   "metadata": {},
   "outputs": [
    {
     "name": "stdout",
     "output_type": "stream",
     "text": [
      "[0.20542382 0.26783795 0.36466583 0.57344732 0.48547567 0.27324264\n",
      " 0.43204587 0.19135421 0.11765083 0.42489984 0.38224032 0.38655528\n",
      " 0.17245622 0.2844872 ]\n"
     ]
    },
    {
     "data": {
      "text/plain": [
       "0.32584164244750874"
      ]
     },
     "execution_count": 219,
     "metadata": {},
     "output_type": "execute_result"
    }
   ],
   "source": [
    "scores = cross_val_score(knn_reg, X=x_train, y=y_train, scoring='r2', cv=folds)\n",
    "print(scores)\n",
    "np.mean(scores)"
   ]
  }
 ],
 "metadata": {
  "kernelspec": {
   "display_name": "Python 3 (ipykernel)",
   "language": "python",
   "name": "python3"
  },
  "language_info": {
   "codemirror_mode": {
    "name": "ipython",
    "version": 3
   },
   "file_extension": ".py",
   "mimetype": "text/x-python",
   "name": "python",
   "nbconvert_exporter": "python",
   "pygments_lexer": "ipython3",
   "version": "3.9.12"
  }
 },
 "nbformat": 4,
 "nbformat_minor": 5
}
